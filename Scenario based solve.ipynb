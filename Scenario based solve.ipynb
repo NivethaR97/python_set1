{
 "cells": [
  {
   "cell_type": "code",
   "execution_count": 1,
   "id": "ee261c4c-8eac-4a5c-92b0-80b20ef1cfd1",
   "metadata": {
    "jp-MarkdownHeadingCollapsed": true
   },
   "outputs": [
    {
     "name": "stdout",
     "output_type": "stream",
     "text": [
      "eligible\n"
     ]
    }
   ],
   "source": [
    "age=18\n",
    "if age>=18:\n",
    "    print(\"eligible\")\n",
    "else:\n",
    "    print(\"not eligible\")"
   ]
  },
  {
   "cell_type": "code",
   "execution_count": 2,
   "id": "80ef637b-0785-41a7-8a74-f1b623bbdbc3",
   "metadata": {},
   "outputs": [
    {
     "name": "stdout",
     "output_type": "stream",
     "text": [
      "5\n"
     ]
    }
   ],
   "source": [
    "num=[1,2,3,4,5]\n",
    "print(max(num))"
   ]
  },
  {
   "cell_type": "code",
   "execution_count": 15,
   "id": "f1f3de00-6eca-4f09-a5bf-4072e77f7d93",
   "metadata": {},
   "outputs": [
    {
     "name": "stdin",
     "output_type": "stream",
     "text": [
      "Enter the salary 56600\n"
     ]
    },
    {
     "name": "stdout",
     "output_type": "stream",
     "text": [
      "bonus: 5660.0\n"
     ]
    }
   ],
   "source": [
    "salary=int(input(\"Enter the salary:\"))\n",
    "if salary>50000:\n",
    "    bonus=10/100*salary\n",
    "    print(\"bonus:\",bonus)\n",
    "else:\n",
    "    print(\"no bonus\")"
   ]
  },
  {
   "cell_type": "code",
   "execution_count": 16,
   "id": "17922f3f-d1b3-4928-933b-d8b973992be0",
   "metadata": {},
   "outputs": [
    {
     "name": "stdin",
     "output_type": "stream",
     "text": [
      "Enter the number 9\n"
     ]
    },
    {
     "name": "stdout",
     "output_type": "stream",
     "text": [
      "odd\n"
     ]
    }
   ],
   "source": [
    "num=int(input(\"Enter the number:\"))\n",
    "if num%2==0:\n",
    "    print(\"even\")\n",
    "else:\n",
    "    print(\"odd\")"
   ]
  },
  {
   "cell_type": "code",
   "execution_count": 17,
   "id": "d8c31c6a-8eab-4265-9596-5f0886f18355",
   "metadata": {},
   "outputs": [
    {
     "name": "stdin",
     "output_type": "stream",
     "text": [
      "Enter the word: hello good morning\n"
     ]
    },
    {
     "name": "stdout",
     "output_type": "stream",
     "text": [
      "gninrom doog olleh\n"
     ]
    }
   ],
   "source": [
    "string1=input(\"Enter the word:\")\n",
    "print(string1[::-1])"
   ]
  },
  {
   "cell_type": "code",
   "execution_count": 18,
   "id": "1de358bb-7da2-4b57-9e04-9169b2297b40",
   "metadata": {},
   "outputs": [
    {
     "name": "stdin",
     "output_type": "stream",
     "text": [
      "Enter the Score: 45\n"
     ]
    },
    {
     "name": "stdout",
     "output_type": "stream",
     "text": [
      "Pass\n"
     ]
    }
   ],
   "source": [
    "student_score=int(input(\"Enter the Score:\"))\n",
    "if student_score>=40:\n",
    "    print(\"Pass\")\n",
    "else:\n",
    "    print(\"Fail\")\n",
    "    "
   ]
  },
  {
   "cell_type": "code",
   "execution_count": 21,
   "id": "f5cdf96c-9c94-4484-a21d-b38953253eda",
   "metadata": {},
   "outputs": [
    {
     "name": "stdin",
     "output_type": "stream",
     "text": [
      "Enter the total order: 150\n"
     ]
    },
    {
     "name": "stdout",
     "output_type": "stream",
     "text": [
      "final price: 120.0\n"
     ]
    }
   ],
   "source": [
    "total_order=int(input(\"Enter the total order:\"))\n",
    "if total_order>100:\n",
    "    discount=20/100*total_order\n",
    "    final_price=total_order-discount\n",
    "    print(\"final price:\",final_price)\n",
    "else:\n",
    "    print(\"final price:\",total_order)"
   ]
  },
  {
   "cell_type": "code",
   "execution_count": 50,
   "id": "2d6146e5-9761-460c-a1d9-4cf68a839c13",
   "metadata": {},
   "outputs": [
    {
     "name": "stdout",
     "output_type": "stream",
     "text": [
      "balace amount: 19500\n"
     ]
    }
   ],
   "source": [
    "balance=20000\n",
    "withdrawal_amt=500\n",
    "if withdrawal_amt<=balance:\n",
    "    balance_amt=balance-withdrawal_amt\n",
    "    print(\"balace amount:\",balance_amt)"
   ]
  },
  {
   "cell_type": "code",
   "execution_count": 45,
   "id": "cf85e991-52aa-4830-b3f9-5f9d2a4d25ab",
   "metadata": {},
   "outputs": [
    {
     "name": "stdin",
     "output_type": "stream",
     "text": [
      "Enter the year: 1996\n"
     ]
    },
    {
     "name": "stdout",
     "output_type": "stream",
     "text": [
      "leap year\n"
     ]
    }
   ],
   "source": [
    "year=int(input(\"Enter the year:\"))\n",
    "if (year%4==0 )and(year%100!=0 or year%400==0):\n",
    "    print(\"leap year\")\n",
    "else:\n",
    "    print(\"Not a leap year\")"
   ]
  },
  {
   "cell_type": "code",
   "execution_count": 49,
   "id": "56d841a0-05a2-42a0-be87-684cb7892eb5",
   "metadata": {},
   "outputs": [
    {
     "name": "stdout",
     "output_type": "stream",
     "text": [
      "[2, 4]\n"
     ]
    }
   ],
   "source": [
    "list1=[1,2,3,4,5]\n",
    "new_list=[]\n",
    "for i in list1:\n",
    "    if i%2==0:\n",
    "        new_list.append(i)\n",
    "print(new_list)"
   ]
  },
  {
   "cell_type": "code",
   "execution_count": null,
   "id": "6ce0852f-6d40-42ee-9369-bb24401317ee",
   "metadata": {},
   "outputs": [],
   "source": []
  }
 ],
 "metadata": {
  "kernelspec": {
   "display_name": "Python 3 (ipykernel)",
   "language": "python",
   "name": "python3"
  },
  "language_info": {
   "codemirror_mode": {
    "name": "ipython",
    "version": 3
   },
   "file_extension": ".py",
   "mimetype": "text/x-python",
   "name": "python",
   "nbconvert_exporter": "python",
   "pygments_lexer": "ipython3",
   "version": "3.12.11"
  }
 },
 "nbformat": 4,
 "nbformat_minor": 5
}
