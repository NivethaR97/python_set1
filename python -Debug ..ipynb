{
 "cells": [
  {
   "cell_type": "code",
   "execution_count": 2,
   "id": "8e02775a",
   "metadata": {},
   "outputs": [
    {
     "name": "stdout",
     "output_type": "stream",
     "text": [
      "0\n",
      "1\n",
      "2\n",
      "3\n",
      "4\n"
     ]
    }
   ],
   "source": [
    "#1.Find the error in the following Python code:\n",
    "for i in range(5):\n",
    "    print(i)\n",
    "    "
   ]
  },
  {
   "cell_type": "code",
   "execution_count": 4,
   "id": "df3cee51",
   "metadata": {},
   "outputs": [
    {
     "name": "stdout",
     "output_type": "stream",
     "text": [
      "15\n"
     ]
    }
   ],
   "source": [
    "#2.What will be the output of this code?\n",
    "a = 10\n",
    "b = \"5\"\n",
    "print(a + int(b))\n",
    " "
   ]
  },
  {
   "cell_type": "code",
   "execution_count": 6,
   "id": "15c2e7b2",
   "metadata": {},
   "outputs": [
    {
     "data": {
      "text/plain": [
       "7"
      ]
     },
     "execution_count": 6,
     "metadata": {},
     "output_type": "execute_result"
    }
   ],
   "source": [
    "#3.What is the issue in this Python snippet?\n",
    "\n",
    "def add_numbers(a, b):\n",
    "    return a + b\n",
    "add_numbers(3,4)"
   ]
  },
  {
   "cell_type": "code",
   "execution_count": 8,
   "id": "2f8e5efd",
   "metadata": {},
   "outputs": [
    {
     "name": "stdout",
     "output_type": "stream",
     "text": [
      "4\n"
     ]
    }
   ],
   "source": [
    "#4.Identify the bug in the following Python code:\n",
    "numbers = [1, 2, 3, 4]\n",
    "#print(numbers[4])#Index Error\n",
    "print(numbers[3])"
   ]
  },
  {
   "cell_type": "code",
   "execution_count": 9,
   "id": "bc0080c1",
   "metadata": {},
   "outputs": [
    {
     "name": "stdout",
     "output_type": "stream",
     "text": [
      "Hello, World!\n"
     ]
    }
   ],
   "source": [
    "#5.Find the error in the following Python code:\n",
    "print(\"Hello, World!\")"
   ]
  },
  {
   "cell_type": "code",
   "execution_count": 11,
   "id": "5b449ecb",
   "metadata": {},
   "outputs": [
    {
     "ename": "ZeroDivisionError",
     "evalue": "division by zero",
     "output_type": "error",
     "traceback": [
      "\u001b[31m---------------------------------------------------------------------------\u001b[39m",
      "\u001b[31mZeroDivisionError\u001b[39m                         Traceback (most recent call last)",
      "\u001b[36mCell\u001b[39m\u001b[36m \u001b[39m\u001b[32mIn[11]\u001b[39m\u001b[32m, line 2\u001b[39m\n\u001b[32m      1\u001b[39m \u001b[38;5;66;03m#6.Find the error in the following Python code:\u001b[39;00m\n\u001b[32m----> \u001b[39m\u001b[32m2\u001b[39m x = \u001b[32;43m5\u001b[39;49m\u001b[43m \u001b[49m\u001b[43m/\u001b[49m\u001b[43m \u001b[49m\u001b[32;43m0\u001b[39;49m\u001b[38;5;66;03m#Zero division error cant divide by zero\u001b[39;00m\n",
      "\u001b[31mZeroDivisionError\u001b[39m: division by zero"
     ]
    }
   ],
   "source": [
    "#6.Find the error in the following Python code:\n",
    "x = 5 / 0#Zero division error cant divide by zero\n"
   ]
  },
  {
   "cell_type": "code",
   "execution_count": 12,
   "id": "79260565",
   "metadata": {},
   "outputs": [
    {
     "name": "stdout",
     "output_type": "stream",
     "text": [
      "Name: Alice, Age: 25\n"
     ]
    }
   ],
   "source": [
    "#7.Find the error in the following Python code:\n",
    "name = \"Alice\"\n",
    "age = 25\n",
    "print(\"Name: \" + name + \", Age: \" + str(age))\n"
   ]
  },
  {
   "cell_type": "code",
   "execution_count": 13,
   "id": "3e4b6f3b",
   "metadata": {},
   "outputs": [
    {
     "name": "stdout",
     "output_type": "stream",
     "text": [
      "10\n",
      "9\n",
      "8\n",
      "7\n",
      "6\n",
      "5\n",
      "4\n",
      "3\n",
      "2\n"
     ]
    }
   ],
   "source": [
    "#8.Find the error\n",
    "for i in range(10, 1, -1):\n",
    "    print(i)\n"
   ]
  },
  {
   "cell_type": "code",
   "execution_count": 15,
   "id": "95976c4d",
   "metadata": {},
   "outputs": [],
   "source": [
    "#9. Find the error in the following Python code:\n",
    "x = 10\n",
    "if x == 5:\n",
    "    print(\"x is 5\")\n"
   ]
  },
  {
   "cell_type": "code",
   "execution_count": 23,
   "id": "317eca50",
   "metadata": {},
   "outputs": [
    {
     "name": "stdout",
     "output_type": "stream",
     "text": [
      "Hello, Nivetha\n"
     ]
    }
   ],
   "source": [
    "#10. Identify the error in the following function definition:\n",
    "\n",
    "def greet(name):\n",
    "    print(\"Hello, \" + name)\n",
    "    return\n",
    "name=\"Nivetha\"\n",
    "greet(name)\n",
    "\n"
   ]
  },
  {
   "cell_type": "code",
   "execution_count": null,
   "id": "c380ddda-341f-4113-90e7-589d0daf4e83",
   "metadata": {},
   "outputs": [],
   "source": []
  }
 ],
 "metadata": {
  "kernelspec": {
   "display_name": "Python [conda env:anaconda3-aiml]",
   "language": "python",
   "name": "conda-env-anaconda3-aiml-py"
  },
  "language_info": {
   "codemirror_mode": {
    "name": "ipython",
    "version": 3
   },
   "file_extension": ".py",
   "mimetype": "text/x-python",
   "name": "python",
   "nbconvert_exporter": "python",
   "pygments_lexer": "ipython3",
   "version": "3.12.11"
  }
 },
 "nbformat": 4,
 "nbformat_minor": 5
}
